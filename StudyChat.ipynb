{
  "nbformat": 4,
  "nbformat_minor": 0,
  "metadata": {
    "colab": {
      "provenance": [],
      "authorship_tag": "ABX9TyMtc1+HG3pvCA5xjXcFajVV",
      "include_colab_link": true
    },
    "kernelspec": {
      "name": "python3",
      "display_name": "Python 3"
    },
    "language_info": {
      "name": "python"
    }
  },
  "cells": [
    {
      "cell_type": "markdown",
      "metadata": {
        "id": "view-in-github",
        "colab_type": "text"
      },
      "source": [
        "<a href=\"https://colab.research.google.com/github/allanti/gemini_chat/blob/main/StudyChat.ipynb\" target=\"_parent\"><img src=\"https://colab.research.google.com/assets/colab-badge.svg\" alt=\"Open In Colab\"/></a>"
      ]
    },
    {
      "cell_type": "code",
      "execution_count": 11,
      "metadata": {
        "id": "sUBME1Jd-wj-"
      },
      "outputs": [],
      "source": [
        "pip install -q -U google-generativeai"
      ]
    },
    {
      "cell_type": "code",
      "source": [
        "import google.generativeai as genai\n",
        "from google.colab import userdata\n",
        "from IPython.display import display, Markdown\n",
        "\n",
        "# Configuração inicial do API e do modelo\n",
        "api_key = userdata.get('SECRET_KEY')\n",
        "genai.configure(api_key=api_key)\n",
        "\n",
        "generation_config = {\n",
        "    \"candidate_count\": 1,\n",
        "    \"temperature\": 0.3\n",
        "}\n",
        "\n",
        "safety_settings = {\n",
        "    \"HARASSMENT\": \"BLOCK_NONE\",\n",
        "    \"HATE\": \"BLOCK_NONE\",\n",
        "    \"SEXUAL\": \"BLOCK_NONE\",\n",
        "    \"DANGEROUS\": \"BLOCK_NONE\",\n",
        "}\n",
        "\n",
        "model = genai.GenerativeModel(model_name=\"gemini-1.0-pro\", generation_config=generation_config, safety_settings=safety_settings)\n",
        "chat = model.start_chat()\n",
        "\n",
        "# Mensagem inicial e descrição\n",
        "display(Markdown(\"**Olá, seja bem-vindo ao guia de estudos. Estou ansioso para te ajudar nessa jornada.**\"))\n",
        "display(Markdown(\"Primeiro faremos algumas perguntas para montarmos o melhor guia de estudos para você.\"))\n",
        "\n",
        "# Perguntas para o usuário\n",
        "questions = [\n",
        "    \"Qual o seu nome?\",\n",
        "    \"Qual matéria você pretende estudar?\",\n",
        "    \"Qual o motivo de estar estudando essa matéria? Seria para algum concurso ou prova específica?\",\n",
        "    \"Em quanto tempo você precisa aprender essa matéria?\",\n",
        "    \"Qual formato de questões você prefere: múltipla escolha ou abertas?\",\n",
        "    \"Agora para começar digite: bora estudar\"\n",
        "]\n",
        "\n",
        "response = \"\"\n",
        "count = 0;\n",
        "responses = []\n",
        "\n",
        "# Loop de perguntas\n",
        "while response.lower() != \"bora estudar\":\n",
        "    if count > 6:\n",
        "        display(Markdown(\"**Para começar digite: bora estudar**\"))\n",
        "        response = input(\"Resposta: \")\n",
        "    else:\n",
        "        display(Markdown(f\"**{questions[count]}**\"))\n",
        "        response = input(\"Resposta: \")\n",
        "        print(\"\\n\")\n",
        "        responses.append(response)\n",
        "        count += 1\n",
        "\n",
        "# Configuração de geração de texto para o modelo\n",
        "study_guide_prompt = f\"Crie um guia de estudos da matéria {responses[1]}, estou estudando para {responses[2]}. Leve em conta que tenho {responses[3]} para aprender a matéria, divida o estudo tendo isso em questão. Caso seja solicitado questões para estudar, gere em formato {responses[4]}. Não inclua questões no resultado do guia. Mostre ao final alguns métodos de estudo\"\n",
        "\n",
        "display(Markdown(f\"**{responses[0]}, aqui está o seu guia de estudos. Se precisar, posso especificar algum tema ou gerar questões para que possa exercitar o aprendizado. Para finalizar o chat, digite 'fim dos estudos'.**\\n\"))\n",
        "\n",
        "# Geração de guia de estudos\n",
        "guide_response = chat.send_message(study_guide_prompt)\n",
        "display(Markdown(guide_response.text.replace(\"*\", \"\")))\n",
        "\n",
        "# Interação contínua com o modelo\n",
        "while True:\n",
        "    prompt = input(\"Pergunta: \")\n",
        "    if prompt.lower() == \"fim dos estudos\":\n",
        "        break\n",
        "    response = chat.send_message(prompt)\n",
        "    display(Markdown(f\"**Resposta:** {response.text.replace('*', '')}\\n\"))"
      ],
      "metadata": {
        "colab": {
          "base_uri": "https://localhost:8080/",
          "height": 1000
        },
        "id": "yfawmQfOH2Gr",
        "outputId": "0da479d7-f5ac-4ed7-995a-a3bdc737f207"
      },
      "execution_count": 21,
      "outputs": [
        {
          "output_type": "display_data",
          "data": {
            "text/plain": [
              "<IPython.core.display.Markdown object>"
            ],
            "text/markdown": "**Olá, seja bem-vindo ao guia de estudos. Estou ansioso para te ajudar nessa jornada.**"
          },
          "metadata": {}
        },
        {
          "output_type": "display_data",
          "data": {
            "text/plain": [
              "<IPython.core.display.Markdown object>"
            ],
            "text/markdown": "Primeiro faremos algumas perguntas para montarmos o melhor guia de estudos para você."
          },
          "metadata": {}
        },
        {
          "output_type": "display_data",
          "data": {
            "text/plain": [
              "<IPython.core.display.Markdown object>"
            ],
            "text/markdown": "**Qual o seu nome?**"
          },
          "metadata": {}
        },
        {
          "output_type": "stream",
          "name": "stdout",
          "text": [
            "Resposta: Allan\n",
            "\n",
            "\n"
          ]
        },
        {
          "output_type": "display_data",
          "data": {
            "text/plain": [
              "<IPython.core.display.Markdown object>"
            ],
            "text/markdown": "**Qual matéria você pretende estudar?**"
          },
          "metadata": {}
        },
        {
          "output_type": "stream",
          "name": "stdout",
          "text": [
            "Resposta: matematica\n",
            "\n",
            "\n"
          ]
        },
        {
          "output_type": "display_data",
          "data": {
            "text/plain": [
              "<IPython.core.display.Markdown object>"
            ],
            "text/markdown": "**Qual o motivo de estar estudando essa matéria? Seria para algum concurso ou prova específica?**"
          },
          "metadata": {}
        },
        {
          "output_type": "stream",
          "name": "stdout",
          "text": [
            "Resposta: concurso\n",
            "\n",
            "\n"
          ]
        },
        {
          "output_type": "display_data",
          "data": {
            "text/plain": [
              "<IPython.core.display.Markdown object>"
            ],
            "text/markdown": "**Em quanto tempo você precisa aprender essa matéria?**"
          },
          "metadata": {}
        },
        {
          "output_type": "stream",
          "name": "stdout",
          "text": [
            "Resposta: 1 mes\n",
            "\n",
            "\n"
          ]
        },
        {
          "output_type": "display_data",
          "data": {
            "text/plain": [
              "<IPython.core.display.Markdown object>"
            ],
            "text/markdown": "**Qual formato de questões você prefere: múltipla escolha ou abertas?**"
          },
          "metadata": {}
        },
        {
          "output_type": "stream",
          "name": "stdout",
          "text": [
            "Resposta: multipla escolha\n",
            "\n",
            "\n"
          ]
        },
        {
          "output_type": "display_data",
          "data": {
            "text/plain": [
              "<IPython.core.display.Markdown object>"
            ],
            "text/markdown": "**Agora para começar digite: bora estudar**"
          },
          "metadata": {}
        },
        {
          "output_type": "stream",
          "name": "stdout",
          "text": [
            "Resposta: bora estudar\n",
            "\n",
            "\n"
          ]
        },
        {
          "output_type": "display_data",
          "data": {
            "text/plain": [
              "<IPython.core.display.Markdown object>"
            ],
            "text/markdown": "**Allan, aqui está o seu guia de estudos. Se precisar, posso especificar algum tema ou gerar questões para que possa exercitar o aprendizado. Para finalizar o chat, digite 'fim dos estudos'.**\n"
          },
          "metadata": {}
        },
        {
          "output_type": "display_data",
          "data": {
            "text/plain": [
              "<IPython.core.display.Markdown object>"
            ],
            "text/markdown": "Guia de Estudos de Matemática para Concurso (1 Mês)\n\nSemana 1\n\n Conceitos Básicos:\n     Conjuntos, números reais, operações básicas\n     Equações e inequações de primeiro grau\n     Proporcionalidade e porcentagem\n Exercícios:\n     Resolver equações e inequações de primeiro grau\n     Calcular porcentagens e proporções\n\nSemana 2\n\n Funções:\n     Conceito de função, gráfico e domínio\n     Funções lineares, quadráticas e exponenciais\n Exercícios:\n     Identificar o tipo de função a partir de seu gráfico\n     Encontrar o domínio e o contradomínio de funções\n\nSemana 3\n\n Geometria Plana:\n     Figuras geométricas, perímetro e área\n     Teorema de Pitágoras e semelhança de triângulos\n Exercícios:\n     Calcular o perímetro e a área de figuras geométricas\n     Aplicar o Teorema de Pitágoras\n\nSemana 4\n\n Geometria Espacial:\n     Sólidos geométricos, volume e área de superfície\n     Relações entre sólidos geométricos\n Exercícios:\n     Calcular o volume e a área de superfície de sólidos geométricos\n     Identificar relações entre sólidos geométricos\n\nMétodos de Estudo\n\n Estudo Ativo:\n     Ler o material, fazer anotações e resumos\n     Resolver exercícios e problemas\n     Discutir os conceitos com colegas ou tutores\n Estudo Espalhado:\n     Dividir o material em pequenas partes e estudá-las ao longo do tempo\n     Revisar o material regularmente para reforçar a memória\n Mapas Mentais:\n     Criar diagramas visuais que conectem os conceitos\n     Usar cores, imagens e palavras-chave para facilitar a memorização\n Flashcards:\n     Escrever perguntas ou conceitos em um lado e as respostas no outro\n     Revisar os flashcards regularmente para testar sua memória"
          },
          "metadata": {}
        },
        {
          "name": "stdout",
          "output_type": "stream",
          "text": [
            "Pergunta: 5 questões para exercitar o estudo\n"
          ]
        },
        {
          "output_type": "display_data",
          "data": {
            "text/plain": [
              "<IPython.core.display.Markdown object>"
            ],
            "text/markdown": "**Resposta:** Questões de Exercício para Estudo de Matemática\n\n1. Conceitos Básicos:\n   Qual é o valor de x na equação 2x + 5 = 11?\n   (A) 2\n   (B) 3\n   (C) 4\n   (D) 5\n\n2. Funções:\n   Qual é o domínio da função f(x) = √(x - 2)?\n   (A) x ≥ 2\n   (B) x > 2\n   (C) x ≤ 2\n   (D) x < 2\n\n3. Geometria Plana:\n   Qual é a área de um retângulo com comprimento de 5 cm e largura de 3 cm?\n   (A) 8 cm²\n   (B) 10 cm²\n   (C) 15 cm²\n   (D) 20 cm²\n\n4. Geometria Espacial:\n   Qual é o volume de um cubo com aresta de 4 cm?\n   (A) 16 cm³\n   (B) 32 cm³\n   (C) 64 cm³\n   (D) 128 cm³\n\n5. Porcentagem:\n   Um produto com preço original de R$ 100,00 está com 20% de desconto. Qual é o valor do desconto?\n   (A) R$ 10,00\n   (B) R$ 15,00\n   (C) R$ 20,00\n   (D) R$ 25,00\n\nRespostas:\n1. B\n2. A\n3. B\n4. C\n5. A\n"
          },
          "metadata": {}
        },
        {
          "name": "stdout",
          "output_type": "stream",
          "text": [
            "Pergunta: fim dos estudos\n"
          ]
        }
      ]
    }
  ]
}
